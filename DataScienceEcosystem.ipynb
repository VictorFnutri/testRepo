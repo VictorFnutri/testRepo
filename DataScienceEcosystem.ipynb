{
 "cells": [
  {
   "cell_type": "markdown",
   "id": "5e84bac7-3397-4fde-9006-a0dc8b1d3af2",
   "metadata": {},
   "source": [
    "# Data Science Tools and Ecosystem"
   ]
  },
  {
   "cell_type": "markdown",
   "id": "51a7a6c1-b395-4ccd-81bc-f8b9dcd7fd14",
   "metadata": {},
   "source": [
    "Neste notebook, as Ferramentas e Ecossistema de Ciência de Dados são resumidos."
   ]
  },
  {
   "cell_type": "markdown",
   "id": "2a35b053-2707-42b6-b246-1f7f2e581164",
   "metadata": {},
   "source": [
    "**objetivos**\n",
    "- python\n",
    "- R\n",
    "- SQL"
   ]
  },
  {
   "cell_type": "markdown",
   "id": "e5b3b752-935a-450c-b2d8-1ebda20d65cb",
   "metadata": {},
   "source": [
    "Algumas das linguagens populares que os Cientistas de Dados usam são: \n",
    "1. python\n",
    "2. R\n",
    "3. SQL"
   ]
  },
  {
   "cell_type": "markdown",
   "id": "8b529396-99cd-4309-b2c7-e4159c967afb",
   "metadata": {},
   "source": [
    "## autor\n",
    "Antonio Victor Alves Ferreira"
   ]
  },
  {
   "cell_type": "markdown",
   "id": "57beeef1-54b4-40db-a531-cf269ff908d8",
   "metadata": {},
   "source": [
    "Algumas das bibliotecas comumente usadas por Cientistas de Dados incluem:\n",
    "1. panda\n",
    "2. numpy\n",
    "3. tensorflow "
   ]
  },
  {
   "cell_type": "markdown",
   "id": "20511718-1be0-4190-913e-048e8773d01a",
   "metadata": {},
   "source": [
    "|Ferramentas de ciência de dados|\n",
    "|-------------------------------|\n",
    "|jupyter notebook|\n",
    "|apache spark|\n",
    "|Rstudio|"
   ]
  },
  {
   "cell_type": "markdown",
   "id": "547eeb3e-df54-48dc-b977-10df877463bb",
   "metadata": {},
   "source": [
    "### Abaixo estão alguns exemplos de avaliação de expressões aritméticas em Python"
   ]
  },
  {
   "cell_type": "markdown",
   "id": "a6de8d86-2307-40b9-b8d9-bd5e7a22240b",
   "metadata": {},
   "source": [
    "Esta é uma expressão aritmética simples para multiplicar e depois adicionar inteiros"
   ]
  },
  {
   "cell_type": "code",
   "execution_count": 18,
   "id": "28d82b8e-6e15-4a05-85a4-9928b0aafacb",
   "metadata": {},
   "outputs": [
    {
     "data": {
      "text/plain": [
       "17"
      ]
     },
     "execution_count": 18,
     "metadata": {},
     "output_type": "execute_result"
    }
   ],
   "source": [
    "(3*4)+5"
   ]
  },
  {
   "cell_type": "markdown",
   "id": "967eaca0-387b-4ebf-96f0-70c1e7f72177",
   "metadata": {},
   "source": [
    "Isso converterá 200 minutos em horas dividindo por 60"
   ]
  },
  {
   "cell_type": "code",
   "execution_count": 21,
   "id": "8bc6a4ee-3af8-4163-97c2-e10c63c430d6",
   "metadata": {},
   "outputs": [
    {
     "data": {
      "text/plain": [
       "3.3333333333333335"
      ]
     },
     "execution_count": 21,
     "metadata": {},
     "output_type": "execute_result"
    }
   ],
   "source": [
    "200/60"
   ]
  },
  {
   "cell_type": "code",
   "execution_count": null,
   "id": "4d57cbdc-9966-4ab1-a9c4-0816496acf1b",
   "metadata": {},
   "outputs": [],
   "source": []
  }
 ],
 "metadata": {
  "kernelspec": {
   "display_name": "Python [conda env:base] *",
   "language": "python",
   "name": "conda-base-py"
  },
  "language_info": {
   "codemirror_mode": {
    "name": "ipython",
    "version": 3
   },
   "file_extension": ".py",
   "mimetype": "text/x-python",
   "name": "python",
   "nbconvert_exporter": "python",
   "pygments_lexer": "ipython3",
   "version": "3.12.7"
  }
 },
 "nbformat": 4,
 "nbformat_minor": 5
}
